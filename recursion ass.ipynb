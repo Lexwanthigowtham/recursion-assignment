{
 "cells": [
  {
   "cell_type": "code",
   "execution_count": 2,
   "id": "00881311-c4f6-4676-984c-87c9e20c5bd3",
   "metadata": {},
   "outputs": [
    {
     "name": "stdout",
     "output_type": "stream",
     "text": [
      "Move disk 1 from rod A to rod C\n",
      "Move disk 2 from rod A to rod B\n",
      "Move disk 1 from rod C to rod B\n",
      "Move disk 3 from rod A to rod C\n",
      "Move disk 1 from rod B to rod A\n",
      "Move disk 2 from rod B to rod C\n",
      "Move disk 1 from rod A to rod C\n"
     ]
    }
   ],
   "source": [
    " #1.Recursive Python function to solve tower of hanoi \n",
    "  \n",
    "  \n",
    "def TowerOfHanoi(n, from_rod, to_rod, aux_rod): \n",
    "    if n == 0: \n",
    "        return\n",
    "    TowerOfHanoi(n-1, from_rod, aux_rod, to_rod) \n",
    "    print(\"Move disk\", n, \"from rod\", from_rod, \"to rod\", to_rod) \n",
    "    TowerOfHanoi(n-1, aux_rod, to_rod, from_rod) \n",
    "  \n",
    "  \n",
    "# Driver code \n",
    "N = 3\n",
    "  \n",
    "# A, C, B are the name of rods \n",
    "TowerOfHanoi(N, 'A', 'C', 'B') \n",
    "  "
   ]
  },
  {
   "cell_type": "code",
   "execution_count": 3,
   "id": "60eb991b-1efb-41c7-878a-66845b6a3554",
   "metadata": {},
   "outputs": [
    {
     "name": "stdout",
     "output_type": "stream",
     "text": [
      "3\n"
     ]
    }
   ],
   "source": [
    "#2.# A Space efficient Dynamic Programming\n",
    "# based Python3 program to find minimum\n",
    "# number operations to convert str1 to str2\n",
    " \n",
    " \n",
    "class Solution:\n",
    "    def editDistance(self, s: str, t: str) -> int:\n",
    "        n = len(s)\n",
    "        m = len(t)\n",
    " \n",
    "        prev = [j for j in range(m+1)]\n",
    "        curr = [0] * (m+1)\n",
    " \n",
    "        for i in range(1, n+1):\n",
    "            curr[0] = i\n",
    "            for j in range(1, m+1):\n",
    "                if s[i-1] == t[j-1]:\n",
    "                    curr[j] = prev[j-1]\n",
    "                else:\n",
    "                    mn = min(1 + prev[j], 1 + curr[j-1])\n",
    "                    curr[j] = min(mn, 1 + prev[j-1])\n",
    "            prev = curr.copy()\n",
    " \n",
    "        return prev[m]\n",
    " \n",
    " \n",
    "s = \"saturday\"\n",
    "t = \"sunday\"\n",
    " \n",
    "ob = Solution()\n",
    "ans = ob.editDistance(s, t)\n",
    "print(ans)\n"
   ]
  },
  {
   "cell_type": "code",
   "execution_count": 6,
   "id": "56ccf518-64b6-4b85-b3b2-e4df1213754d",
   "metadata": {},
   "outputs": [
    {
     "name": "stdout",
     "output_type": "stream",
     "text": [
      "Largest in given array is 22\n"
     ]
    }
   ],
   "source": [
    "#3. Python3 program to find maximum in arr[] of size n\n",
    "# Function to find maximum in arr[] of size n\n",
    "def largest(arr, n):\n",
    "     \n",
    "    # Initialize maximum element\n",
    "    mx = arr[0]\n",
    " \n",
    "    # Traverse array elements from second\n",
    "    # and compare every element with\n",
    "    # current max\n",
    "    for i in range(1, n):\n",
    "        if arr[i] > mx:\n",
    "            mx = arr[i]\n",
    " \n",
    "    return mx\n",
    " \n",
    " \n",
    "# Driver Code\n",
    "if __name__ == '__main__':\n",
    "    arr = [13, 1, -3, 22, 5]\n",
    "    n = len(arr)\n",
    "     \n",
    "    # Calculating length of an array\n",
    "    Ans = largest(arr, n)\n",
    "     \n",
    "    # display max\n",
    "    print(\"Largest in given array is\", Ans)\n",
    " "
   ]
  },
  {
   "cell_type": "code",
   "execution_count": 7,
   "id": "859ec4ab-55f7-46a6-a3db-f9cabdbeb84c",
   "metadata": {},
   "outputs": [
    {
     "name": "stdout",
     "output_type": "stream",
     "text": [
      "120\n"
     ]
    }
   ],
   "source": [
    "#4. python Program to find sum of elements\n",
    "# in a given array using recursion\n",
    " \n",
    "# function to return sum of elements\n",
    "# in an array of size n\n",
    " \n",
    "def sum1(arr):\n",
    "    if len(arr) == 1:\n",
    "        return arr[0]\n",
    "    else:\n",
    "        return arr[0] + sum1(arr[1:])\n",
    " \n",
    " \n",
    "arr =[92, 23, 15, -20, 10]\n",
    "print(sum1(arr))"
   ]
  },
  {
   "cell_type": "code",
   "execution_count": 2,
   "id": "719de841-702d-4723-812c-d167cf048c5a",
   "metadata": {},
   "outputs": [
    {
     "name": "stdout",
     "output_type": "stream",
     "text": [
      "True\n",
      "False\n"
     ]
    }
   ],
   "source": [
    "#5. python3 >= 3.6 for typehint support\n",
    "# This example avoids the complexity of ordering\n",
    "# through type conversions & string manipulation\n",
    " \n",
    "def isArmstrong(val: int) -> bool:\n",
    "    \"\"\"val will be tested to see if its an Armstrong number. \n",
    "    Arguments:\n",
    "        val {int} -- positive integer only. \n",
    "    Returns:\n",
    "        bool -- true is /false isn't\n",
    "    \"\"\"\n",
    " \n",
    "    # break the int into its respective digits\n",
    "    parts = [int(_) for _ in str(val)]\n",
    " \n",
    "    # begin test.\n",
    "    counter = 0\n",
    "    for _ in parts:\n",
    "        counter += _**3\n",
    "    return (counter == val)\n",
    " \n",
    " \n",
    "# Check Armstrong number\n",
    "print(isArmstrong(153))\n",
    " \n",
    "print(isArmstrong(1253))"
   ]
  },
  {
   "cell_type": "markdown",
   "id": "eb06112c-6dd8-4e38-a05e-ea07d2f2db8f",
   "metadata": {},
   "source": []
  }
 ],
 "metadata": {
  "kernelspec": {
   "display_name": "Python 3 (ipykernel)",
   "language": "python",
   "name": "python3"
  },
  "language_info": {
   "codemirror_mode": {
    "name": "ipython",
    "version": 3
   },
   "file_extension": ".py",
   "mimetype": "text/x-python",
   "name": "python",
   "nbconvert_exporter": "python",
   "pygments_lexer": "ipython3",
   "version": "3.10.8"
  }
 },
 "nbformat": 4,
 "nbformat_minor": 5
}
